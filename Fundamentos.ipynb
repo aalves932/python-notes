{
 "metadata": {
  "language_info": {
   "codemirror_mode": {
    "name": "ipython",
    "version": 3
   },
   "file_extension": ".py",
   "mimetype": "text/x-python",
   "name": "python",
   "nbconvert_exporter": "python",
   "pygments_lexer": "ipython3",
   "version": "3.8.5-final"
  },
  "orig_nbformat": 2,
  "kernelspec": {
   "name": "python_defaultSpec_1596812453874",
   "display_name": "Python 3.7.5 64-bit"
  }
 },
 "nbformat": 4,
 "nbformat_minor": 2,
 "cells": [
  {
   "cell_type": "markdown",
   "metadata": {},
   "source": [
    "# Primeiros Exemplos\n"
   ]
  },
  {
   "cell_type": "code",
   "execution_count": 1,
   "metadata": {
    "tags": []
   },
   "outputs": [
    {
     "output_type": "stream",
     "name": "stdout",
     "text": "Primeiro programa escrito pelo Andre\n"
    }
   ],
   "source": [
    "print('Primeiro programa escrito pelo Andre')"
   ]
  },
  {
   "cell_type": "code",
   "execution_count": 27,
   "metadata": {
    "tags": []
   },
   "outputs": [
    {
     "output_type": "stream",
     "name": "stdout",
     "text": "O valor de a é: 2\nO valor de b é: 6\n"
    }
   ],
   "source": [
    "a = 1\n",
    "b = 2\n",
    "b += 4\n",
    "a += 1\n",
    "print('O valor de a é:', a)\n",
    "print('O valor de b é:', b)"
   ]
  },
  {
   "cell_type": "markdown",
   "metadata": {},
   "source": [
    "## Comentários\n"
   ]
  },
  {
   "cell_type": "code",
   "execution_count": 8,
   "metadata": {
    "tags": []
   },
   "outputs": [
    {
     "output_type": "stream",
     "name": "stdout",
     "text": "3450.23\n"
    }
   ],
   "source": [
    "# Faz cometário de uma linha simples\n",
    "'''\n",
    "Para varias linhas de Comentários utilizar \n",
    "3 aspas simples\n",
    "'''\n",
    "\n",
    "salario = 3450.23\n",
    "print(salario)\n"
   ]
  },
  {
   "cell_type": "code",
   "execution_count": 18,
   "metadata": {
    "tags": []
   },
   "outputs": [
    {
     "output_type": "execute_result",
     "data": {
      "text/plain": "81"
     },
     "metadata": {},
     "execution_count": 18
    }
   ],
   "source": [
    "# Exercicio\n",
    "import math\n",
    "salario = 16000\n",
    "despesas = (3600+2000+3000+4500)\n",
    "\n",
    "percentualComprometido = despesas / salario * 100\n",
    "math.trunc(percentualComprometido)"
   ]
  }
 ]
}